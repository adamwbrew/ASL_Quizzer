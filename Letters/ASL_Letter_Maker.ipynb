{
 "cells": [
  {
   "cell_type": "code",
   "execution_count": 18,
   "metadata": {},
   "outputs": [],
   "source": [
    "import cv2"
   ]
  },
  {
   "attachments": {},
   "cell_type": "markdown",
   "metadata": {},
   "source": [
    "## Add each letter as a file"
   ]
  },
  {
   "cell_type": "code",
   "execution_count": 19,
   "metadata": {},
   "outputs": [],
   "source": [
    "image = cv2.imread(\"ASL_chart.jpeg\")\n",
    "letters = 'ABCDEFGHIJKLMNOPQRSTUVWXYZ'\n",
    "for l in range(len(letters)):\n",
    "    dy = 145 * (l % 5)\n",
    "    dx = 156 * (l // 5)\n",
    "    y=8 + dy\n",
    "    x=10 + dx\n",
    "    h=150 + dy\n",
    "    w=162 + dx\n",
    "    crop_image = image[x:w, y:h]\n",
    "    cv2.imshow('Cropped', crop_image)\n",
    "    cv2.imwrite(f\"{letters[l]}.jpg\", crop_image)\n"
   ]
  },
  {
   "attachments": {},
   "cell_type": "markdown",
   "metadata": {},
   "source": [
    "## Remove letters from each image"
   ]
  },
  {
   "cell_type": "code",
   "execution_count": 20,
   "metadata": {},
   "outputs": [],
   "source": [
    "from PIL import Image\n",
    "import numpy as np\n",
    "\n",
    "letters = 'ABCDEFGHIJKLMNOPQRSTUVWXYZ'\n",
    "for l in range(len(letters)):\n",
    "    img = Image.open(f\"{letters[l]}.jpg\")\n",
    "    img = img.convert(\"RGB\")\n",
    "    \n",
    "    d = img.getdata()\n",
    "    new_image = []\n",
    "    for item in d:\n",
    "        if(letters[l] == \"Z\"):\n",
    "            # change all blue pixels to white\n",
    "            if item[1] in list(range(80, 200)) and item[2] in list(range(80, 200)):\n",
    "                new_image.append((0, 0, 0))\n",
    "\n",
    "            # change all semi-white pixels to white\n",
    "            elif item[0] in list(range(200, 256)):\n",
    "                new_image.append((255, 255, 255))\n",
    "\n",
    "            elif item[0] in list(range(0, 220)) or item[1] in list(range(0, 220)) or item[2] in list(range(0, 220)):\n",
    "                new_image.append((0, 0, 0))\n",
    "\n",
    "            else:\n",
    "                new_image.append(item)\n",
    "        else:\n",
    "            # change all blue pixels to white\n",
    "            if item[1] in list(range(80, 256)) and item[2] in list(range(80, 256)):\n",
    "                new_image.append((255, 255, 255))\n",
    "\n",
    "            # change all semi-white pixels to white\n",
    "            elif item[0] in list(range(200, 256)):\n",
    "                new_image.append((255, 255, 255))\n",
    "\n",
    "            elif item[0] in list(range(0, 220)) or item[1] in list(range(0, 220)) or item[2] in list(range(0, 220)):\n",
    "                new_image.append((0, 0, 0))\n",
    "\n",
    "            else:\n",
    "                new_image.append(item)\n",
    "    \n",
    "    # update image data\n",
    "    img.putdata(new_image)\n",
    "    \n",
    "    # # convert PIL image to NumPy array\n",
    "    img_np = np.asarray(img)\n",
    "    \n",
    "    # apply GaussianBlur\n",
    "    blur = cv2.GaussianBlur(img_np, (3,3), cv2.BORDER_DEFAULT)\n",
    "    \n",
    "    # apply addWeighted\n",
    "    smooth = cv2.addWeighted(blur, 0.55, img_np, 0.45, 0)\n",
    "    \n",
    "    # convert NumPy array back to PIL image\n",
    "    smooth = Image.fromarray(smooth)\n",
    "    \n",
    "    # save new image\n",
    "    smooth.save(f\"{letters[l]}.jpg\")"
   ]
  }
 ],
 "metadata": {
  "kernelspec": {
   "display_name": "base",
   "language": "python",
   "name": "python3"
  },
  "language_info": {
   "codemirror_mode": {
    "name": "ipython",
    "version": 3
   },
   "file_extension": ".py",
   "mimetype": "text/x-python",
   "name": "python",
   "nbconvert_exporter": "python",
   "pygments_lexer": "ipython3",
   "version": "3.9.7"
  },
  "orig_nbformat": 4
 },
 "nbformat": 4,
 "nbformat_minor": 2
}
