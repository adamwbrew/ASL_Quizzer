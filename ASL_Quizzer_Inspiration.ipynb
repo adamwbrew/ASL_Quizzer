{
 "cells": [
  {
   "attachments": {},
   "cell_type": "markdown",
   "metadata": {},
   "source": [
    "## Needed Setup"
   ]
  },
  {
   "cell_type": "code",
   "execution_count": 5,
   "metadata": {},
   "outputs": [
    {
     "name": "stderr",
     "output_type": "stream",
     "text": [
      "[nltk_data] Downloading package words to\n",
      "[nltk_data]     /Users/adambrewer/nltk_data...\n",
      "[nltk_data]   Package words is already up-to-date!\n"
     ]
    }
   ],
   "source": [
    "import random \n",
    "import nltk\n",
    "nltk.download('words')\n",
    "from nltk.corpus import words\n",
    "from IPython.display import display, HTML\n",
    "import random\n",
    "from PIL import Image\n",
    "english_words = words.words('en')"
   ]
  },
  {
   "cell_type": "code",
   "execution_count": 6,
   "metadata": {},
   "outputs": [],
   "source": [
    "ASL_dict = {\n",
    "'A' : Image.open(\"Letters/A.jpg\"),\n",
    "'B' : Image.open(\"Letters/B.jpg\"),\n",
    "'C' : Image.open(\"Letters/C.jpg\"),\n",
    "'D' : Image.open(\"Letters/D.jpg\"),\n",
    "'E' : Image.open(\"Letters/E.jpg\"),\n",
    "'F' : Image.open(\"Letters/F.jpg\"),\n",
    "'G' : Image.open(\"Letters/G.jpg\"),\n",
    "'H' : Image.open(\"Letters/H.jpg\"),\n",
    "'I' : Image.open(\"Letters/I.jpg\"),\n",
    "'J' : Image.open(\"Letters/J.jpg\"),\n",
    "'K' : Image.open(\"Letters/K.jpg\"),\n",
    "'L' : Image.open(\"Letters/L.jpg\"),\n",
    "'M' : Image.open(\"Letters/M.jpg\"),\n",
    "'N' : Image.open(\"Letters/N.jpg\"),\n",
    "'O' : Image.open(\"Letters/O.jpg\"),\n",
    "'P' : Image.open(\"Letters/P.jpg\"),\n",
    "'Q' : Image.open(\"Letters/Q.jpg\"),\n",
    "'R' : Image.open(\"Letters/R.jpg\"),\n",
    "'S' : Image.open(\"Letters/S.jpg\"),\n",
    "'T' : Image.open(\"Letters/T.jpg\"),\n",
    "'U' : Image.open(\"Letters/U.jpg\"),\n",
    "'V' : Image.open(\"Letters/V.jpg\"),\n",
    "'W' : Image.open(\"Letters/W.jpg\"),\n",
    "'X' : Image.open(\"Letters/X.jpg\"),\n",
    "'Y' : Image.open(\"Letters/Y.jpg\"),\n",
    "'Z' : Image.open(\"Letters/Z.jpg\")\n",
    "}"
   ]
  },
  {
   "attachments": {},
   "cell_type": "markdown",
   "metadata": {},
   "source": [
    "---\n",
    "## ASL Quiz Game to learn Letters (for Jupyter Notebook)"
   ]
  },
  {
   "cell_type": "code",
   "execution_count": 7,
   "metadata": {},
   "outputs": [],
   "source": [
    "def ASL_letter_quiz(ASL_dict):\n",
    "    letters = 'ABCDEFGHIJKLMNOPQRSTUVWXYZ'\n",
    "    letter = random.choice(letters)\n",
    "    print(\"Hello! You have 3 guesses to try to figure out what this ASL letter is.\")\n",
    "    display(ASL_dict[letter])\n",
    "    guesses = 3\n",
    "    while(guesses!=0):\n",
    "        guess = input(\"Which ASL letter is seen above:\")\n",
    "        if(guess.upper() == letter):\n",
    "            print(f\"Correct! The ASL letter above is {letter.upper()}.\")\n",
    "            break\n",
    "        else:\n",
    "            guesses -= 1\n",
    "            print(f\"You guessed {guess}. This is incorrect, try again.\")\n",
    "    if(guesses == 0):\n",
    "        print(f\"\\nSorry, you ran out of guesses. The correct answer for this ASL letter was: {letter}\")\n",
    "    \n",
    "\n",
    "# ASL_letter_quiz(ASL_dict)"
   ]
  },
  {
   "attachments": {},
   "cell_type": "markdown",
   "metadata": {},
   "source": [
    "---\n",
    "## ASL Quiz game to learn Letters in a Word (for Jupyter Notebook)"
   ]
  },
  {
   "cell_type": "code",
   "execution_count": 8,
   "metadata": {},
   "outputs": [],
   "source": [
    "from IPython.display import display, HTML\n",
    "import random\n",
    "\n",
    "def ASL_word_quiz(ASL_dict, mode):\n",
    "    mode_dict = {\"Easy\": [3, 2], \"Medium\":[5, 2], \"Hard\":[7, 3]}\n",
    "    if(mode != \"Hard\"):\n",
    "        word = random.choice([i for i in english_words if len(i) == mode_dict[mode][0]]).upper()\n",
    "    else:\n",
    "        word = random.choice([i for i in english_words if len(i) >= mode_dict[mode][0]]).upper()\n",
    "    size = 80\n",
    "    html = ''.join([f'<img src=\"{ASL_dict[s].filename}\" style=\"display:inline-block;margin-right:10px;width:{size}px;height:{size}px\">' for s in word])\n",
    "    display(HTML(html))\n",
    "    \n",
    "    print(f\"Hello! You have {mode_dict[mode][0]} guesses to try to figure out what this ASL word is.\\n\\n{'-'*70}\")\n",
    "    \n",
    "    guesses = mode_dict[mode][1]\n",
    "    correct_gs = set()\n",
    "    guessed = set()\n",
    "    prev_len, win = 0, False\n",
    "    while guesses > 0:\n",
    "        guess = input(\"Guess a letter from the ASL word seen above: \")\n",
    "        \n",
    "        # Handle empty string input or non valid input\n",
    "        if not guess or len(guess) > 1:\n",
    "            print(\"| Please enter a valid guess.\\n\")\n",
    "            continue\n",
    "\n",
    "        # Handles previously guessed letters\n",
    "        if guess.upper() in list(guessed):\n",
    "            print(f\"|\\n| You have already guessed the letter '{guess.upper()}'. Please try again.\\n|\")\n",
    "            print(f\"| So far have correctly guessed {prev_len} letters in the ASL word: {' '.join([i if i in correct_gs else '_' for i in word])}\\n|\\n{'-'*70}\")\n",
    "            continue\n",
    "\n",
    "        # Handle single letter guess\n",
    "        if guess.upper() in word.upper():\n",
    "            correct_gs.add(guess.upper())\n",
    "            guessed.add(guess.upper())\n",
    "            print(f\"|\\n| You have correctly guessed the letter '{guess.upper()}'.\")\n",
    "        else:\n",
    "            guessed.add(guess.upper())\n",
    "            guesses -= 1\n",
    "            print(f\"|\\n| You guessed '{guess.upper()}', which is incorrect. You have {guesses} guesses remaining.\")\n",
    "        \n",
    "        # Win Game\n",
    "        if correct_gs == set([i for i in word]):\n",
    "            print(f\"|\\n{'-'*70}\\n\\nWord found! You guessed all {len(word)} letters in ASL word which is: {word.upper()}\")\n",
    "            win = True\n",
    "            break\n",
    "        \n",
    "        # Update feedback message\n",
    "        prev_len = len(correct_gs)\n",
    "        if(guesses == 0): print(f\"| You have correctly guessed {prev_len} letters in the ASL word: {' '.join([i if i in correct_gs else '_' for i in word])}\\n|\\n{'-'*70}\\n\")\n",
    "        else: print(f\"| You have correctly guessed {prev_len} letters in the ASL word: {' '.join([i if i in correct_gs else '_' for i in word])}\\n|\\n{'-'*70}\")\n",
    "\n",
    "    if win == False:\n",
    "        print(f\"Sorry, you ran out of guesses. The correct answer for this ASL word was: {word.capitalize()}\")\n",
    "\n",
    "# ASL_word_quiz(ASL_dict, \"Easy\")"
   ]
  },
  {
   "attachments": {},
   "cell_type": "markdown",
   "metadata": {},
   "source": [
    "---\n",
    "## Collect Sentences for sentence game"
   ]
  },
  {
   "cell_type": "code",
   "execution_count": 9,
   "metadata": {},
   "outputs": [
    {
     "name": "stderr",
     "output_type": "stream",
     "text": [
      "[nltk_data] Downloading package words to\n",
      "[nltk_data]     /Users/adambrewer/nltk_data...\n",
      "[nltk_data]   Package words is already up-to-date!\n"
     ]
    }
   ],
   "source": [
    "import pandas as pd\n",
    "import nltk\n",
    "nltk.download('words')\n",
    "from nltk.corpus import words\n",
    "english_words = words.words('en')\n",
    "english_words = [i.upper() for i in english_words]\n",
    "\n",
    "book_table = [f\"Text_{i}.txt\" for i in range(1, 10)]\n",
    "\n",
    "books = []\n",
    "for book in book_table:\n",
    "    f = open(f\"Books_Text/{book}\", \"r\", encoding=\"utf-8\")\n",
    "    book_= [i.strip().replace(\"_\", \"\") for i in f.read().replace(\"\\n\", \"\").split(\".\") if 8 > len(i.split(\" \")) > 3 and \"]\" not in i and \"[\" not in i and \"?\" not in i and \"!\" not in i and \"\\\"\" not in i and \"'\" not in i and\"“\" not in i and \"‘\" not in i and \"‘\" not in i and \"’\" not in i and \"-\" not in i and \",\" not in i and \"”\" not in i]\n",
    "    books += book_\n",
    "\n",
    "sentences = []\n",
    "for s in books:\n",
    "    words = s.split(' ')\n",
    "    word_ = True\n",
    "    for word in words:\n",
    "        if(word.isalpha == False):\n",
    "            word_ = False\n",
    "            break\n",
    "        if(word.upper() not in english_words):\n",
    "            word_ = False\n",
    "            break\n",
    "    if(word_ == True):\n",
    "        sentences += [s]\n",
    "        \n",
    "sent_dict = {\"Sentence\": sentences}\n",
    "df = pd.DataFrame(sent_dict) \n",
    "df.to_csv('Sentences.csv') "
   ]
  }
 ],
 "metadata": {
  "kernelspec": {
   "display_name": "base",
   "language": "python",
   "name": "python3"
  },
  "language_info": {
   "codemirror_mode": {
    "name": "ipython",
    "version": 3
   },
   "file_extension": ".py",
   "mimetype": "text/x-python",
   "name": "python",
   "nbconvert_exporter": "python",
   "pygments_lexer": "ipython3",
   "version": "3.9.7"
  },
  "orig_nbformat": 4
 },
 "nbformat": 4,
 "nbformat_minor": 2
}
